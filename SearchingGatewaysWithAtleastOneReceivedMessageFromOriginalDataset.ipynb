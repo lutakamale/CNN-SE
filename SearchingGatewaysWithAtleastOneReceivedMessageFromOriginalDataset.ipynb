{
 "cells": [
  {
   "cell_type": "code",
   "execution_count": null,
   "id": "4ee5dbb4-87c3-4a15-8eea-bafc56f6070b",
   "metadata": {},
   "outputs": [],
   "source": [
    "from google.colab import drive\n",
    "drive.mount('/content/drive')"
   ]
  },
  {
   "cell_type": "code",
   "execution_count": null,
   "id": "d24f9151-39db-47ea-9f0e-d881f1c60698",
   "metadata": {},
   "outputs": [],
   "source": [
    "import pandas as p\n",
    "import numpy as np\n",
    "#import DataFrame as df\n",
    "import scipy as sp\n",
    "import IPython\n",
    "import sklearn\n",
    "import math\n",
    "#from haversine import haversine\n",
    "from sklearn.model_selection import train_test_split\n",
    "import statistics\n",
    "\n",
    "# reading the data\n",
    "file = p.read_csv(\"/content/drive/My Drive/LORAWAN_DATASET_2019/lorawan_antwerp_2019_dataset.csv\")\n",
    "columns = file.columns\n",
    "x = file[columns[0:72]]\n",
    "#x = x.join(file[columns[73]])\n",
    "y = file[columns[75:]]\n",
    "\n",
    "#load data into a DataFrame object:\n",
    "sele = p.DataFrame(x)\n",
    "#print(sele)\n",
    "#print(sele[['BS 2'[:10]]].to_string(index=False))\n",
    "#print(sele[['BS 5']])\n",
    "\n",
    "gateways=['BS 1', 'BS 2', 'BS 3', 'BS 4', 'BS 5', 'BS 6', 'BS 7', 'BS 8', 'BS 9', 'BS 10',\n",
    "          'BS 11', 'BS 12', 'BS 13', 'BS 14', 'BS 15', 'BS 16', 'BS 17', 'BS 18', 'BS 19', 'BS 20',\n",
    "          'BS 21', 'BS 22', 'BS 23', 'BS 24', 'BS 25', 'BS 26', 'BS 27', 'BS 28', 'BS 29', 'BS 30',\n",
    "          'BS 31', 'BS 32', 'BS 33', 'BS 34', 'BS 35', 'BS 36', 'BS 37', 'BS 38', 'BS 39', 'BS 40',\n",
    "          'BS 41', 'BS 42', 'BS 43', 'BS 44', 'BS 45', 'BS 46', 'BS 47', 'BS 48', 'BS 49', 'BS 50',\n",
    "          'BS 51', 'BS 52', 'BS 53', 'BS 54', 'BS 55', 'BS 56', 'BS 57', 'BS 58', 'BS 59', 'BS 60',\n",
    "          'BS 61', 'BS 62', 'BS 63', 'BS 64', 'BS 65', 'BS 66', 'BS 67', 'BS 68', 'BS 69', 'BS 70',\n",
    "          'BS 71', 'BS 72']\n",
    "\n",
    "\n",
    "for gateway in (gateways):\n",
    "  #print(sele[gateway].values)\n",
    "  magozas=sele[gateway].values\n",
    "  #print(magozas[0])\n",
    "  for i, magoza in enumerate(magozas):\n",
    "    if magoza != -200 :\n",
    "      print('RSS detected in :', gateway)\n",
    "      break\n",
    "\n"
   ]
  }
 ],
 "metadata": {
  "kernelspec": {
   "display_name": "Python 3 (ipykernel)",
   "language": "python",
   "name": "python3"
  },
  "language_info": {
   "codemirror_mode": {
    "name": "ipython",
    "version": 3
   },
   "file_extension": ".py",
   "mimetype": "text/x-python",
   "name": "python",
   "nbconvert_exporter": "python",
   "pygments_lexer": "ipython3",
   "version": "3.11.7"
  }
 },
 "nbformat": 4,
 "nbformat_minor": 5
}
