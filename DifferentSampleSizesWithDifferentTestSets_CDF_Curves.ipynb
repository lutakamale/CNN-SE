{
 "cells": [
  {
   "cell_type": "code",
   "execution_count": null,
   "id": "76edb542-6e09-491d-b72b-99c6005f368e",
   "metadata": {},
   "outputs": [],
   "source": [
    "from google.colab import drive\n",
    "drive.mount('/content/drive')"
   ]
  },
  {
   "cell_type": "code",
   "execution_count": null,
   "id": "0dc92c5a-9f44-4222-9f56-a42370ce0825",
   "metadata": {},
   "outputs": [],
   "source": [
    "# defining the libraries\n",
    "import numpy as np\n",
    "import matplotlib.pyplot as plt\n",
    "import pandas as pd\n",
    "%matplotlib inline\n",
    "\n",
    "#styles = [':', '-.', '--', '-', ':', '_.']\n",
    "\n",
    "\n",
    "#colors = ['#FF00FF', '#0000FF', '#00FF00', '#FF0000', '#008000', '#800080']\n",
    "colors = [ '#800000', '#00FFFF','#8A2BE2', '#7FFF00', '#228B22', '#FF69B4','#FF0000']\n",
    "\n",
    "#SelebeaSamples = ['positive', 'normalized', 'exponential', 'powed']\n",
    "SelebeaSamples = ['test_error_1.0', 'test_error_0.85', 'test_error_0.7', 'test_error_0.5',\n",
    "                  'test_error_0.3', 'test_error_0.25', 'test_error_0.1']\n",
    "#mpamaa= ['positive', 'normalized', 'exponential', 'powed']\n",
    "mpamaa= ['100% of the sample size', '85% of the sample size', '70% of the sample size', '50% of the sample size',\n",
    "          '30% of the sample size', '25% of the sample size', '10% of the sample size']\n",
    "\n",
    "\n",
    "plt.figure()\n",
    "plt.title(\"CDFs of the Localization Error for Different Training Sample Sizes\")\n",
    "plt.ylabel(\"F(X)\")\n",
    "plt.xlabel('Localization error [m]')\n",
    "\n",
    "i=0\n",
    "for SelebeaSample in SelebeaSamples:\n",
    "  file = pd.read_csv(\"/content/drive/My Drive/CDF_FILES/\" + str(SelebeaSample) + '.csv')\n",
    "  columns = file.columns\n",
    "  error_values=file[columns[1]]\n",
    "  N=len(error_values)\n",
    "\n",
    "  N = len(error_values)\n",
    "  # sort the data in ascending order\n",
    "  data=np.array(error_values)\n",
    "  x=np.sort(data)\n",
    "\n",
    "  # get the cdf values of y\n",
    "  y = np.arange(N) / float(N)\n",
    "\n",
    "  # plotting  CDF\n",
    "  #label = str(mpamaa[i]) + '_' +  \"70_15_15_DataSplit\"\n",
    "  label = str(mpamaa[i])\n",
    "  plt.plot(x, y, color=colors[i], label=label)\n",
    "  #plt.axis([250, 350, -0.1, 1.1])\n",
    "  #plt.axis([250, 400, -0.1, 1.1]) #Uncomment this line for a magnified curve\n",
    "  plt.legend()\n",
    "  i += 1\n",
    "\n",
    "plt.grid(which='both')\n",
    "plt.yticks([0, 0.25, 0.5, 0.75, 1])\n",
    "plt.legend(loc='lower right', prop ={'size': 10})\n",
    "plt.savefig(\"/content/drive/My Drive/GRAPHS/CDF_curves.png\")\n"
   ]
  }
 ],
 "metadata": {
  "kernelspec": {
   "display_name": "Python 3 (ipykernel)",
   "language": "python",
   "name": "python3"
  },
  "language_info": {
   "codemirror_mode": {
    "name": "ipython",
    "version": 3
   },
   "file_extension": ".py",
   "mimetype": "text/x-python",
   "name": "python",
   "nbconvert_exporter": "python",
   "pygments_lexer": "ipython3",
   "version": "3.11.7"
  }
 },
 "nbformat": 4,
 "nbformat_minor": 5
}
