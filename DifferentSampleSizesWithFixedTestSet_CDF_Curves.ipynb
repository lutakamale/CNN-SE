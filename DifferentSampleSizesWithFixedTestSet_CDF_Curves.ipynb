{
 "cells": [
  {
   "cell_type": "code",
   "execution_count": null,
   "id": "6beda3de-d80b-4ccb-b738-ff9cbc4c1796",
   "metadata": {},
   "outputs": [],
   "source": [
    "from google.colab import drive\n",
    "drive.mount('/content/drive')"
   ]
  },
  {
   "cell_type": "code",
   "execution_count": null,
   "id": "4a8b6b8c-6c1f-4242-a6d5-e65f8a0ecb82",
   "metadata": {},
   "outputs": [],
   "source": [
    "# defining the libraries\n",
    "import numpy as np\n",
    "import matplotlib.pyplot as plt\n",
    "import pandas as pd\n",
    "%matplotlib inline\n",
    "\n",
    "#styles = [':', '-.', '--', '-', ':', '_.']\n",
    "\n",
    "\n",
    "#colors = ['#FF00FF', '#0000FF', '#00FF00', '#FF0000', '#008000', '#800080']\n",
    "colors = [ '#00FFFF','#8A2BE2', '#7FFF00', '#228B22','#FF0000']\n",
    "\n",
    "#SelebeaSamples = ['positive', 'normalized', 'exponential', 'powed']\n",
    "SelebeaSamples = ['test_error_list_1.0', 'test_error_list_0.8', 'test_error_list_0.6', 'test_error_list_0.4',\n",
    "                  'test_error_list_0.2']\n",
    "#mpamaa= ['positive', 'normalized', 'exponential', 'powed']\n",
    "mpamaa= ['100% of the remained samples for a fixed test set', '80% of the remained samples for a fixed test set',\n",
    "         '60% of the remained samples for a fixed test set', '40% of the remained samples for a fixed test set',\n",
    "         '20% of the remained samples for a fixed test set']\n",
    "\n",
    "\n",
    "plt.figure()\n",
    "plt.title(\"Localization Error (CDFs)-Different Training Sample Sizes-Fixed Test Set\")\n",
    "plt.ylabel(\"F(X)\")\n",
    "plt.xlabel('Localization error [m]')\n",
    "\n",
    "i=0\n",
    "for SelebeaSample in SelebeaSamples:\n",
    "  file = pd.read_csv(\"/content/drive/My Drive/CDF_FILES/\" + str(SelebeaSample) + '.csv')\n",
    "  columns = file.columns\n",
    "  error_values=file[columns[1]]\n",
    "  N=len(error_values)\n",
    "\n",
    "  N = len(error_values)\n",
    "  # sort the data in ascending order\n",
    "  data=np.array(error_values)\n",
    "  x=np.sort(data)\n",
    "\n",
    "  # get the cdf values of y\n",
    "  y = np.arange(N) / float(N)\n",
    "\n",
    "  # plotting  CDF\n",
    "  #label = str(mpamaa[i]) + '_' +  \"70_15_15_DataSplit\"\n",
    "  label = str(mpamaa[i])\n",
    "  plt.plot(x, y, color=colors[i], label=label)\n",
    "  #plt.axis([250, 350, -0.1, 1.1])\n",
    "  #plt.axis([250, 400, -0.1, 1.1])\n",
    "  plt.legend()\n",
    "  i += 1\n",
    "\n",
    "plt.grid(which='both')\n",
    "plt.yticks([0, 0.25, 0.5, 0.75, 1])\n",
    "plt.legend(loc='lower right', prop ={'size': 10})\n",
    "plt.savefig(\"/content/drive/My Drive/GRAPHS/CDF_curves.png\")\n"
   ]
  }
 ],
 "metadata": {
  "kernelspec": {
   "display_name": "Python 3 (ipykernel)",
   "language": "python",
   "name": "python3"
  },
  "language_info": {
   "codemirror_mode": {
    "name": "ipython",
    "version": 3
   },
   "file_extension": ".py",
   "mimetype": "text/x-python",
   "name": "python",
   "nbconvert_exporter": "python",
   "pygments_lexer": "ipython3",
   "version": "3.11.7"
  }
 },
 "nbformat": 4,
 "nbformat_minor": 5
}
