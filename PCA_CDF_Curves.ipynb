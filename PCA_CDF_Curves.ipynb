{
 "cells": [
  {
   "cell_type": "code",
   "execution_count": null,
   "id": "ed11887e-04f4-4a5e-a602-933e4067d5fe",
   "metadata": {},
   "outputs": [],
   "source": [
    "from google.colab import drive\n",
    "drive.mount('/content/drive')"
   ]
  },
  {
   "cell_type": "code",
   "execution_count": null,
   "id": "a0620c52-c1fb-497c-a7ba-44e4b78e3f47",
   "metadata": {},
   "outputs": [],
   "source": [
    "# defining the libraries\n",
    "import numpy as np\n",
    "import matplotlib.pyplot as plt\n",
    "import pandas as pd\n",
    "%matplotlib inline\n",
    "\n",
    "#styles = [':', '-.', '--', '-', ':', '_.']\n",
    "\n",
    "\n",
    "#colors = ['#FF00FF', '#0000FF', '#00FF00', '#FF0000', '#008000', '#800080']\n",
    "colors = [ '#800000', '#00FFFF', '#FF8C00', '#FFFF00', '#FF00FF','#8A2BE2', '#7FFF00', '#228B22', '#FF69B4','#FF0000']\n",
    "\n",
    "#SelebeaSamples = ['positive', 'normalized', 'exponential', 'powed']\n",
    "SelebeaSamples = ['error_1.0', 'error_0.9', 'error_0.8', 'error_0.7',\n",
    "                  'error_0.6', 'error_0.5', 'error_0.4', 'error_0.3',\n",
    "                  'error_0.2', 'error_0.1']\n",
    "#mpamaa= ['positive', 'normalized', 'exponential', 'powed']\n",
    "mpamaa= ['100% of PCA variance retained', '90% of PCA variance retained', '80% of PCA variance retained', '70% of PCA variance retained',\n",
    "          '60% of PCA_variance retained', '50% of PCA variance retained', '40% of PCA variance retained', '30% of PCA variance retained',\n",
    "         '20% of PCA variance retained', '10% of PCA variance retained']\n",
    "\n",
    "\n",
    "plt.figure()\n",
    "plt.title(\"CDFs of the Localization Error for Different Retained PCA Variances\")\n",
    "plt.ylabel(\"F(X)\")\n",
    "plt.xlabel('Localization error [m]')\n",
    "\n",
    "i=0\n",
    "for SelebeaSample in SelebeaSamples:\n",
    "  file = pd.read_csv(\"/content/drive/My Drive/CDF_FILES/\" + str(SelebeaSample) + '.csv')\n",
    "  columns = file.columns\n",
    "  error_values=file[columns[1]]\n",
    "  N=len(error_values)\n",
    "\n",
    "  N = len(error_values)\n",
    "  # sort the data in ascending order\n",
    "  data=np.array(error_values)\n",
    "  x=np.sort(data)\n",
    "\n",
    "  # get the cdf values of y\n",
    "  y = np.arange(N) / float(N)\n",
    "\n",
    "  # plotting  CDF\n",
    "  #label = str(mpamaa[i]) + '_' +  \"70_15_15_DataSplit\"\n",
    "  label = str(mpamaa[i])\n",
    "  plt.plot(x, y, color=colors[i], label=label)\n",
    "  #plt.axis([250, 350, -0.1, 1.1])\n",
    "  plt.axis([250, 400, -0.1, 1.1]) #Comment this line for a full curve\n",
    "  plt.legend()\n",
    "  i += 1\n",
    "\n",
    "plt.grid(which='both')\n",
    "plt.yticks([0, 0.25, 0.5, 0.75, 1])\n",
    "plt.legend(loc='lower right', prop ={'size': 10})\n",
    "plt.savefig(\"/content/drive/My Drive/GRAPHS/CDF_curves.png\")\n"
   ]
  }
 ],
 "metadata": {
  "kernelspec": {
   "display_name": "Python 3 (ipykernel)",
   "language": "python",
   "name": "python3"
  },
  "language_info": {
   "codemirror_mode": {
    "name": "ipython",
    "version": 3
   },
   "file_extension": ".py",
   "mimetype": "text/x-python",
   "name": "python",
   "nbconvert_exporter": "python",
   "pygments_lexer": "ipython3",
   "version": "3.11.7"
  }
 },
 "nbformat": 4,
 "nbformat_minor": 5
}
