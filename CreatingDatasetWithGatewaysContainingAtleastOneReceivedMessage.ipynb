{
 "cells": [
  {
   "cell_type": "code",
   "execution_count": null,
   "id": "4ed3820f-36d5-48ac-b6d7-df1272ffaed6",
   "metadata": {},
   "outputs": [],
   "source": [
    "from google.colab import drive\n",
    "drive.mount('/content/drive')"
   ]
  },
  {
   "cell_type": "code",
   "execution_count": null,
   "id": "d77b9187-e046-4a77-a1db-725e74343275",
   "metadata": {},
   "outputs": [],
   "source": [
    "import pandas as p\n",
    "import numpy as np\n",
    "#import DataFrame as df\n",
    "import scipy as sp\n",
    "import IPython\n",
    "import sklearn\n",
    "import math\n",
    "#from haversine import haversine\n",
    "from sklearn.model_selection import train_test_split\n",
    "import statistics\n",
    "\n",
    "# reading the data\n",
    "file = p.read_csv(\"/content/drive/My Drive/LORAWAN_DATASET_2019/lorawan_antwerp_2019_dataset.csv\")\n",
    "columns = file.columns\n",
    "kijenge = file[columns[0:74]]\n",
    "x = file[columns[0:72]]\n",
    "#x = x.join(file[columns[73]])\n",
    "y = file[columns[75:]]\n",
    "\n",
    "#load data into a DataFrame object:\n",
    "sele = p.DataFrame(x)\n",
    "magoza = sele[columns[0:7]]\n",
    "magoza = magoza.join(sele[columns[8:12]])\n",
    "magoza = magoza.join(sele[columns[13:20]])\n",
    "magoza = magoza.join(sele[columns[21:23]])\n",
    "magoza = magoza.join(sele[columns[24:25]])\n",
    "magoza = magoza.join(sele[columns[26:27]])\n",
    "magoza = magoza.join(sele[columns[30:35]])\n",
    "magoza = magoza.join(sele[columns[36:37]])\n",
    "magoza = magoza.join(sele[columns[40:41]])\n",
    "magoza = magoza.join(sele[columns[42:44]])\n",
    "magoza = magoza.join(sele[columns[46:50]])\n",
    "magoza = magoza.join(sele[columns[51:53]])\n",
    "magoza = magoza.join(sele[columns[54:55]])\n",
    "magoza = magoza.join(sele[columns[58:60]])\n",
    "magoza = magoza.join(sele[columns[68:72]])\n",
    "magoza = magoza.join(kijenge[columns[73]])\n",
    "\n",
    "p.DataFrame(magoza).to_csv(\"/content/drive/My Drive/ALBERT_UP_TROUBLESHOOTING_RESULTS/New2019Dataset.csv\")\n",
    "\n",
    "\n",
    "\n",
    "\n"
   ]
  },
  {
   "cell_type": "code",
   "execution_count": null,
   "id": "54c6f826-9148-4b98-8be9-efaf25d2a45e",
   "metadata": {},
   "outputs": [],
   "source": []
  }
 ],
 "metadata": {
  "kernelspec": {
   "display_name": "Python 3 (ipykernel)",
   "language": "python",
   "name": "python3"
  },
  "language_info": {
   "codemirror_mode": {
    "name": "ipython",
    "version": 3
   },
   "file_extension": ".py",
   "mimetype": "text/x-python",
   "name": "python",
   "nbconvert_exporter": "python",
   "pygments_lexer": "ipython3",
   "version": "3.11.7"
  }
 },
 "nbformat": 4,
 "nbformat_minor": 5
}
